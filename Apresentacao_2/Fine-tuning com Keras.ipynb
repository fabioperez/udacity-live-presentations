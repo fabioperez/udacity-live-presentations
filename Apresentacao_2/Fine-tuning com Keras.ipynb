{
 "cells": [
  {
   "cell_type": "code",
   "execution_count": 18,
   "metadata": {
    "collapsed": true
   },
   "outputs": [],
   "source": [
    "import os\n",
    "\n",
    "WEIGHTS_DIR = 'weights'\n",
    "ORIGINAL_TRAIN_DIR = os.path.join('data', 'train')\n",
    "REDUCED_TRAIN_DIR = os.path.join('data', 'train_reduced')\n",
    "REDUCED_VAL_DIR = os.path.join('data', 'val_reduced')"
   ]
  },
  {
   "cell_type": "code",
   "execution_count": 3,
   "metadata": {
    "collapsed": true
   },
   "outputs": [],
   "source": [
    "# Data preparation\n",
    "\n",
    "import glob\n",
    "import random\n",
    "import shutil\n",
    "\n",
    "os.makedirs(WEIGHTS_DIR, exist_ok=True)\n",
    "\n",
    "N_train = 1250\n",
    "N_val = 125\n",
    "\n",
    "if not os.path.isdir(REDUCED_TRAIN_DIR):\n",
    "    for cls in ('cat', 'dog'):\n",
    "        dst_train_dir = os.path.join(REDUCED_TRAIN_DIR, cls)\n",
    "        dst_val_dir = os.path.join(REDUCED_VAL_DIR, cls)\n",
    "        os.makedirs(dst_train_dir, exist_ok=True)\n",
    "        os.makedirs(dst_val_dir, exist_ok=True)\n",
    "        files = glob.glob(os.path.join(ORIGINAL_TRAIN_DIR, cls + '*'))\n",
    "        random.shuffle(files)\n",
    "        for f in files[:N_train]:\n",
    "            shutil.copy(f, dst_train_dir)\n",
    "        for f in files[N_train:N_train + N_val]:\n",
    "            shutil.copy(f, dst_val_dir)"
   ]
  },
  {
   "cell_type": "code",
   "execution_count": 19,
   "metadata": {},
   "outputs": [
    {
     "name": "stdout",
     "output_type": "stream",
     "text": [
      "2.1.1\n"
     ]
    }
   ],
   "source": [
    "import keras\n",
    "from keras.applications.vgg16 import VGG16\n",
    "from keras.preprocessing import image\n",
    "from keras.models import Model\n",
    "from keras.layers import Dense, GlobalAveragePooling2D\n",
    "from keras import backend as K\n",
    "from keras.optimizers import SGD\n",
    "print(keras.__version__)"
   ]
  },
  {
   "cell_type": "code",
   "execution_count": 20,
   "metadata": {
    "collapsed": true
   },
   "outputs": [],
   "source": [
    "base_model = VGG16(weights='imagenet', include_top=False)\n",
    "x = base_model.output\n",
    "x = GlobalAveragePooling2D()(x)\n",
    "x = Dense(1024, activation='relu')(x)\n",
    "# Add a binary classification layer (sigmoid)\n",
    "predictions = Dense(1, activation='sigmoid')(x)\n",
    "model = Model(inputs=base_model.input, outputs=predictions)"
   ]
  },
  {
   "cell_type": "code",
   "execution_count": 23,
   "metadata": {
    "collapsed": true
   },
   "outputs": [],
   "source": [
    "model.compile(optimizer=SGD(lr=0.00001, momentum=0.9),\n",
    "              loss='binary_crossentropy',\n",
    "              metrics=['accuracy'])"
   ]
  },
  {
   "cell_type": "code",
   "execution_count": 24,
   "metadata": {},
   "outputs": [
    {
     "name": "stdout",
     "output_type": "stream",
     "text": [
      "Found 2500 images belonging to 2 classes.\n",
      "Found 250 images belonging to 2 classes.\n"
     ]
    }
   ],
   "source": [
    "from keras.preprocessing.image import ImageDataGenerator\n",
    "from keras.applications.vgg16 import preprocess_input\n",
    "\n",
    "height, width = 224, 224\n",
    "datagen = ImageDataGenerator(\n",
    "    rotation_range=45.,\n",
    "    width_shift_range=0.05,\n",
    "    height_shift_range=0.05,\n",
    "    shear_range=0.05,\n",
    "    zoom_range=0.1,\n",
    "    fill_mode='reflect',\n",
    "    horizontal_flip=True,\n",
    "    vertical_flip=False,\n",
    "    preprocessing_function=preprocess_input)\n",
    "\n",
    "batch_size = 32\n",
    "\n",
    "train_generator = datagen.flow_from_directory(\n",
    "        REDUCED_TRAIN_DIR,\n",
    "        target_size=(height, width),\n",
    "        batch_size=batch_size,\n",
    "        class_mode='binary')\n",
    "\n",
    "validation_generator = datagen.flow_from_directory(\n",
    "        REDUCED_VAL_DIR,\n",
    "        target_size=(height, width),\n",
    "        batch_size=batch_size,\n",
    "        class_mode='binary')"
   ]
  },
  {
   "cell_type": "code",
   "execution_count": 12,
   "metadata": {},
   "outputs": [
    {
     "name": "stdout",
     "output_type": "stream",
     "text": [
      "Epoch 1/50\n",
      "79/78 [==============================] - 68s 858ms/step - loss: 0.5647 - acc: 0.7677 - val_loss: 0.3001 - val_acc: 0.8800\n",
      "Epoch 2/50\n",
      "79/78 [==============================] - 28s 358ms/step - loss: 0.2291 - acc: 0.9089 - val_loss: 0.2157 - val_acc: 0.9200\n",
      "Epoch 3/50\n",
      "79/78 [==============================] - 27s 345ms/step - loss: 0.1864 - acc: 0.9186 - val_loss: 0.1706 - val_acc: 0.9360\n",
      "Epoch 4/50\n",
      "79/78 [==============================] - 27s 346ms/step - loss: 0.1658 - acc: 0.9332 - val_loss: 0.1644 - val_acc: 0.9360\n",
      "Epoch 5/50\n",
      "79/78 [==============================] - 27s 343ms/step - loss: 0.1431 - acc: 0.9426 - val_loss: 0.1494 - val_acc: 0.9520\n",
      "Epoch 6/50\n",
      "79/78 [==============================] - 27s 339ms/step - loss: 0.1337 - acc: 0.9414 - val_loss: 0.1243 - val_acc: 0.9560\n",
      "Epoch 7/50\n",
      "79/78 [==============================] - 29s 363ms/step - loss: 0.1213 - acc: 0.9494 - val_loss: 0.1255 - val_acc: 0.9560\n",
      "Epoch 8/50\n",
      "79/78 [==============================] - 29s 365ms/step - loss: 0.1139 - acc: 0.9495 - val_loss: 0.1108 - val_acc: 0.9520\n",
      "Epoch 9/50\n",
      "79/78 [==============================] - 29s 367ms/step - loss: 0.0949 - acc: 0.9645 - val_loss: 0.1020 - val_acc: 0.9640\n",
      "Epoch 10/50\n",
      "79/78 [==============================] - 26s 330ms/step - loss: 0.1015 - acc: 0.9602 - val_loss: 0.1005 - val_acc: 0.9440\n",
      "Epoch 11/50\n",
      "79/78 [==============================] - 29s 367ms/step - loss: 0.0997 - acc: 0.9629 - val_loss: 0.1287 - val_acc: 0.9560\n",
      "Epoch 12/50\n",
      "79/78 [==============================] - 28s 359ms/step - loss: 0.0811 - acc: 0.9734 - val_loss: 0.0850 - val_acc: 0.9640\n",
      "Epoch 13/50\n",
      "79/78 [==============================] - 29s 363ms/step - loss: 0.0879 - acc: 0.9641 - val_loss: 0.0938 - val_acc: 0.9520\n",
      "Epoch 14/50\n",
      "79/78 [==============================] - 28s 355ms/step - loss: 0.0889 - acc: 0.9645 - val_loss: 0.1104 - val_acc: 0.9600\n",
      "Epoch 15/50\n",
      "79/78 [==============================] - 28s 356ms/step - loss: 0.0808 - acc: 0.9687 - val_loss: 0.1067 - val_acc: 0.9440\n",
      "Epoch 16/50\n",
      "79/78 [==============================] - 26s 327ms/step - loss: 0.0698 - acc: 0.9699 - val_loss: 0.0793 - val_acc: 0.9600\n",
      "Epoch 17/50\n",
      "79/78 [==============================] - 28s 356ms/step - loss: 0.0811 - acc: 0.9677 - val_loss: 0.1151 - val_acc: 0.9640\n",
      "Epoch 18/50\n",
      "79/78 [==============================] - 28s 354ms/step - loss: 0.0764 - acc: 0.9695 - val_loss: 0.0723 - val_acc: 0.9760\n",
      "Epoch 19/50\n",
      "79/78 [==============================] - 25s 322ms/step - loss: 0.0732 - acc: 0.9704 - val_loss: 0.0937 - val_acc: 0.9520\n",
      "Epoch 20/50\n",
      "79/78 [==============================] - 26s 332ms/step - loss: 0.0660 - acc: 0.9753 - val_loss: 0.0754 - val_acc: 0.9680\n",
      "Epoch 21/50\n",
      "79/78 [==============================] - 28s 359ms/step - loss: 0.0724 - acc: 0.9726 - val_loss: 0.1196 - val_acc: 0.9680\n",
      "Epoch 22/50\n",
      "79/78 [==============================] - 27s 341ms/step - loss: 0.0658 - acc: 0.9738 - val_loss: 0.0897 - val_acc: 0.9480\n",
      "Epoch 23/50\n",
      "79/78 [==============================] - 28s 353ms/step - loss: 0.0673 - acc: 0.9730 - val_loss: 0.0639 - val_acc: 0.9720\n",
      "Epoch 24/50\n",
      "79/78 [==============================] - 27s 345ms/step - loss: 0.0657 - acc: 0.9734 - val_loss: 0.0763 - val_acc: 0.9640\n",
      "Epoch 25/50\n",
      "79/78 [==============================] - 28s 349ms/step - loss: 0.0571 - acc: 0.9846 - val_loss: 0.0680 - val_acc: 0.9720\n",
      "Epoch 26/50\n",
      "79/78 [==============================] - 24s 310ms/step - loss: 0.0597 - acc: 0.9776 - val_loss: 0.0841 - val_acc: 0.9680\n",
      "Epoch 27/50\n",
      "79/78 [==============================] - 28s 356ms/step - loss: 0.0507 - acc: 0.9811 - val_loss: 0.0837 - val_acc: 0.9560\n",
      "Epoch 28/50\n",
      "79/78 [==============================] - 29s 361ms/step - loss: 0.0643 - acc: 0.9731 - val_loss: 0.0730 - val_acc: 0.9640\n",
      "Epoch 29/50\n",
      "79/78 [==============================] - 28s 357ms/step - loss: 0.0544 - acc: 0.9788 - val_loss: 0.0863 - val_acc: 0.9720\n",
      "Epoch 30/50\n",
      "79/78 [==============================] - 28s 352ms/step - loss: 0.0509 - acc: 0.9819 - val_loss: 0.0920 - val_acc: 0.9720\n",
      "Epoch 31/50\n",
      "79/78 [==============================] - 25s 317ms/step - loss: 0.0531 - acc: 0.9811 - val_loss: 0.0816 - val_acc: 0.9560\n",
      "Epoch 32/50\n",
      "79/78 [==============================] - 28s 355ms/step - loss: 0.0555 - acc: 0.9815 - val_loss: 0.0833 - val_acc: 0.9680\n",
      "Epoch 33/50\n",
      "79/78 [==============================] - 27s 345ms/step - loss: 0.0497 - acc: 0.9822 - val_loss: 0.0828 - val_acc: 0.9600\n",
      "Epoch 34/50\n",
      "79/78 [==============================] - 27s 345ms/step - loss: 0.0485 - acc: 0.9830 - val_loss: 0.0792 - val_acc: 0.9680\n",
      "Epoch 35/50\n",
      "79/78 [==============================] - 25s 312ms/step - loss: 0.0501 - acc: 0.9834 - val_loss: 0.0752 - val_acc: 0.9560\n",
      "Epoch 36/50\n",
      "79/78 [==============================] - 26s 332ms/step - loss: 0.0520 - acc: 0.9815 - val_loss: 0.0921 - val_acc: 0.9520\n",
      "Epoch 37/50\n",
      "79/78 [==============================] - 30s 383ms/step - loss: 0.0452 - acc: 0.9815 - val_loss: 0.0902 - val_acc: 0.9640\n",
      "Epoch 38/50\n",
      "79/78 [==============================] - 26s 335ms/step - loss: 0.0541 - acc: 0.9819 - val_loss: 0.0622 - val_acc: 0.9760\n",
      "Epoch 39/50\n",
      "79/78 [==============================] - 29s 371ms/step - loss: 0.0471 - acc: 0.9838 - val_loss: 0.0740 - val_acc: 0.9640\n",
      "Epoch 40/50\n",
      "79/78 [==============================] - 29s 361ms/step - loss: 0.0404 - acc: 0.9849 - val_loss: 0.0770 - val_acc: 0.9680\n",
      "Epoch 41/50\n",
      "79/78 [==============================] - 29s 366ms/step - loss: 0.0372 - acc: 0.9869 - val_loss: 0.0809 - val_acc: 0.9720\n",
      "Epoch 42/50\n",
      "79/78 [==============================] - 25s 322ms/step - loss: 0.0436 - acc: 0.9838 - val_loss: 0.1099 - val_acc: 0.9680\n",
      "Epoch 43/50\n",
      "79/78 [==============================] - 29s 365ms/step - loss: 0.0426 - acc: 0.9846 - val_loss: 0.1319 - val_acc: 0.9600\n",
      "Epoch 44/50\n",
      "79/78 [==============================] - 25s 322ms/step - loss: 0.0378 - acc: 0.9869 - val_loss: 0.0954 - val_acc: 0.9680\n",
      "Epoch 45/50\n",
      "79/78 [==============================] - 26s 329ms/step - loss: 0.0406 - acc: 0.9869 - val_loss: 0.0822 - val_acc: 0.9600\n",
      "Epoch 46/50\n",
      "79/78 [==============================] - 30s 384ms/step - loss: 0.0398 - acc: 0.9857 - val_loss: 0.0577 - val_acc: 0.9640\n",
      "Epoch 47/50\n",
      "79/78 [==============================] - 26s 335ms/step - loss: 0.0392 - acc: 0.9861 - val_loss: 0.0558 - val_acc: 0.9800\n",
      "Epoch 48/50\n",
      "79/78 [==============================] - 29s 368ms/step - loss: 0.0448 - acc: 0.9803 - val_loss: 0.0792 - val_acc: 0.9720\n",
      "Epoch 49/50\n",
      "79/78 [==============================] - 28s 357ms/step - loss: 0.0445 - acc: 0.9823 - val_loss: 0.0808 - val_acc: 0.9600\n",
      "Epoch 50/50\n",
      "79/78 [==============================] - 27s 348ms/step - loss: 0.0367 - acc: 0.9865 - val_loss: 0.0734 - val_acc: 0.9760\n"
     ]
    }
   ],
   "source": [
    "from keras.callbacks import TensorBoard\n",
    "\n",
    "tb_callback = TensorBoard(log_dir='tb_log')\n",
    "\n",
    "training = model.fit_generator(\n",
    "        train_generator,\n",
    "        steps_per_epoch=train_generator.samples // batch_size,\n",
    "        epochs=50,\n",
    "        validation_data=validation_generator,\n",
    "        validation_steps=validation_generator.samples // batch_size,\n",
    "        callbacks=[tb_callback])"
   ]
  },
  {
   "cell_type": "code",
   "execution_count": 13,
   "metadata": {
    "collapsed": true
   },
   "outputs": [],
   "source": [
    "model.save('trained_model.h5')"
   ]
  },
  {
   "cell_type": "markdown",
   "metadata": {},
   "source": [
    "----"
   ]
  },
  {
   "cell_type": "code",
   "execution_count": 27,
   "metadata": {},
   "outputs": [],
   "source": [
    "from keras.models import load_model\n",
    "model = load_model('trained_model.h5')"
   ]
  },
  {
   "cell_type": "code",
   "execution_count": 34,
   "metadata": {},
   "outputs": [],
   "source": [
    "# Inferência em uma imagem\n",
    "from keras.preprocessing import image\n",
    "from skimage.io import imshow\n",
    "import numpy as np\n",
    "\n",
    "img = image.load_img('data/train/dog.100.jpg', target_size=(224, 224))\n",
    "x = image.img_to_array(img)\n",
    "x = np.expand_dims(x, axis=0)\n",
    "x = preprocess_input(x)\n",
    "preds = model.predict(x)"
   ]
  },
  {
   "cell_type": "code",
   "execution_count": null,
   "metadata": {
    "collapsed": true
   },
   "outputs": [],
   "source": []
  }
 ],
 "metadata": {
  "kernelspec": {
   "display_name": "Python 3",
   "language": "python",
   "name": "python3"
  },
  "language_info": {
   "codemirror_mode": {
    "name": "ipython",
    "version": 3
   },
   "file_extension": ".py",
   "mimetype": "text/x-python",
   "name": "python",
   "nbconvert_exporter": "python",
   "pygments_lexer": "ipython3",
   "version": "3.6.3"
  }
 },
 "nbformat": 4,
 "nbformat_minor": 2
}
